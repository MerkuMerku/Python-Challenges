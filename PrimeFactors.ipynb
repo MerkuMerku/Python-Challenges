{
 "metadata": {
  "language_info": {
   "codemirror_mode": {
    "name": "ipython",
    "version": 3
   },
   "file_extension": ".py",
   "mimetype": "text/x-python",
   "name": "python",
   "nbconvert_exporter": "python",
   "pygments_lexer": "ipython3",
   "version": "3.8.3-final"
  },
  "orig_nbformat": 2,
  "kernelspec": {
   "name": "python_defaultSpec_1599088529895",
   "display_name": "Python 3.8.3 64-bit"
  }
 },
 "nbformat": 4,
 "nbformat_minor": 2,
 "cells": [
  {
   "cell_type": "markdown",
   "metadata": {},
   "source": [
    "# Challenge 1 - Find the prime factors of a given number\n",
    "\n",
    "Prime factors are a list of prime numbers that can be multiplied to make up any given number. Here there is also written a function to check if the resulting prime factors are actually prime numbers.\n",
    "\n",
    "Input: value\n",
    "\n",
    "Output: list of prime factors"
   ]
  },
  {
   "cell_type": "code",
   "execution_count": 1,
   "metadata": {},
   "outputs": [],
   "source": [
    "import numpy as np"
   ]
  },
  {
   "cell_type": "code",
   "execution_count": 2,
   "metadata": {},
   "outputs": [],
   "source": [
    "def findFactors(inputValue):\n",
    "    factors = []\n",
    "    divisor = 2\n",
    "    while (divisor < inputValue):\n",
    "        if (inputValue % divisor) == 0:\n",
    "            factors.append(divisor)\n",
    "            inputValue = inputValue/divisor\n",
    "        else:\n",
    "            divisor += 1\n",
    "    factors.append(int(inputValue))\n",
    "    return factors"
   ]
  },
  {
   "cell_type": "code",
   "execution_count": 12,
   "metadata": {},
   "outputs": [],
   "source": [
    "\n",
    "def isPrime(N):\n",
    "    i = 2\n",
    "    prime = True\n",
    "\n",
    "    if N == 0 or N == 1:\n",
    "        print(\"ERROR: N is not a prime number\")\n",
    "        prime = False\n",
    "        return prime\n",
    "    while i < N:\n",
    "        if (N % i == 0):\n",
    "            print(\"ERROR: N is not a prime number\")\n",
    "            prime = False\n",
    "            break\n",
    "        else: \n",
    "            i += 1\n",
    "    return prime"
   ]
  },
  {
   "cell_type": "code",
   "execution_count": 13,
   "metadata": {
    "tags": []
   },
   "outputs": [
    {
     "output_type": "stream",
     "name": "stdout",
     "text": "ERROR: N is not a prime number\nFalse\n"
    }
   ],
   "source": [
    "inVal = int(input(\"Please enter a number:\"))\n",
    "facts = findFactors(inVal)\n",
    "findFactors(inVal)\n",
    "\n",
    "print(isPrime(0))\n",
    "\n",
    "results = []\n",
    "for factor in facts:\n",
    "    results.append(isPrime(factor))\n",
    "print(np.prod(facts))\n",
    "print(facts)\n",
    "print(results)"
   ]
  },
  {
   "cell_type": "code",
   "execution_count": null,
   "metadata": {},
   "outputs": [],
   "source": []
  }
 ]
}