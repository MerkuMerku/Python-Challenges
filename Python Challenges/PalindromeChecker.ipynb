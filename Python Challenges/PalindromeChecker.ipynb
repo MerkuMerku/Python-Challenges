{
 "metadata": {
  "language_info": {
   "codemirror_mode": {
    "name": "ipython",
    "version": 3
   },
   "file_extension": ".py",
   "mimetype": "text/x-python",
   "name": "python",
   "nbconvert_exporter": "python",
   "pygments_lexer": "ipython3",
   "version": "3.8.3-final"
  },
  "orig_nbformat": 2,
  "kernelspec": {
   "name": "python_defaultSpec_1598909023422",
   "display_name": "Python 3.8.3 64-bit"
  }
 },
 "nbformat": 4,
 "nbformat_minor": 2,
 "cells": [
  {
   "cell_type": "markdown",
   "metadata": {},
   "source": [
    "# Challenge 2 - Write a python function to identify a palindrome\n",
    "\n",
    "A palindrome is a word that reads the same backwards - i.e. Kayak\n",
    "\n",
    "Input: word or string\n",
    "\n",
    "Output: True or False, depending on whether the word is a palindrome or not"
   ]
  },
  {
   "cell_type": "code",
   "execution_count": 3,
   "metadata": {
    "tags": []
   },
   "outputs": [
    {
     "output_type": "stream",
     "name": "stdout",
     "text": "You chose the word 'hahaha hahaha'\n"
    }
   ],
   "source": [
    "\n",
    "word = input(\"Enter a word: \")\n",
    "print(\"You chose the word '{}'\".format(word))\n",
    "word = word.lower()\n",
    "\n",
    "def palindrome_check(item):\n",
    "    new_word = \"\"\n",
    "    i = 0\n",
    "    while (i < len(item)):\n",
    "        i += 1\n",
    "        new_word = new_word + item[len(item)-i]\n",
    "    if new_word == word:\n",
    "        print(\"'{}' is a palindrome!\".format(word))\n",
    "    else:\n",
    "        print(\"'{}' is not a palindrome\".format(word))\n",
    "\n"
   ]
  },
  {
   "cell_type": "code",
   "execution_count": 5,
   "metadata": {
    "tags": []
   },
   "outputs": [
    {
     "output_type": "stream",
     "name": "stdout",
     "text": "ahahah ahahah\nhahaha hahaha is not a palindrome\n"
    }
   ],
   "source": [
    "palindrome_check(word)"
   ]
  },
  {
   "cell_type": "markdown",
   "metadata": {},
   "source": [
    "# The most efficient solution"
   ]
  },
  {
   "cell_type": "code",
   "execution_count": 6,
   "metadata": {},
   "outputs": [],
   "source": [
    "import re\n",
    "\n",
    "def is_palindrome(phrase):\n",
    "    forwards =  ''.join(re.findall(r'[a-z]+', phrase.lower()))\n",
    "    backwards = forwards[::-1]\n",
    "    return forwards == backwards"
   ]
  },
  {
   "cell_type": "code",
   "execution_count": 7,
   "metadata": {},
   "outputs": [
    {
     "output_type": "execute_result",
     "data": {
      "text/plain": "False"
     },
     "metadata": {},
     "execution_count": 7
    }
   ],
   "source": [
    "is_palindrome(word)"
   ]
  },
  {
   "cell_type": "code",
   "execution_count": null,
   "metadata": {},
   "outputs": [],
   "source": []
  }
 ]
}