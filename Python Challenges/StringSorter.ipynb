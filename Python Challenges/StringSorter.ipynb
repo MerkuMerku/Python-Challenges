{
 "metadata": {
  "language_info": {
   "codemirror_mode": {
    "name": "ipython",
    "version": 3
   },
   "file_extension": ".py",
   "mimetype": "text/x-python",
   "name": "python",
   "nbconvert_exporter": "python",
   "pygments_lexer": "ipython3",
   "version": 3
  },
  "orig_nbformat": 2
 },
 "nbformat": 4,
 "nbformat_minor": 2,
 "cells": [
  {
   "cell_type": "markdown",
   "metadata": {},
   "source": [
    "# Challenge 3 - Write a python function to sort the words in a string\n",
    "\n",
    "Input: string of words, separated by spaces\n",
    "\n",
    "Output: string of words, sorted alphabetically"
   ]
  },
  {
   "cell_type": "code",
   "execution_count": null,
   "metadata": {},
   "outputs": [],
   "source": [
    "import re\n",
    "\n",
    "def replacePunct(inString):\n",
    "    punct = \"!?.,'\"\n",
    "    for char in punct:\n",
    "        inString = inString.replace(char,\"\")\n",
    "    return(inString)\n",
    "\n",
    "def splitAndReorder(inString):\n",
    "    PunctlessString = inString.split(' ')\n",
    "    print(PunctlessString)\n",
    "    reordered = sorted(PunctlessString, key=str.casefold)\n",
    "    return ' '.join(reordered)\n",
    "\n",
    "string = input(\"Enter a string: \")\n",
    "word = replacePunct(string)\n",
    "outPut = splitAndReorder(word)\n",
    "print(\"\\nThe sorted list is:\")\n",
    "print(outPut)"
   ]
  }
 ]
}