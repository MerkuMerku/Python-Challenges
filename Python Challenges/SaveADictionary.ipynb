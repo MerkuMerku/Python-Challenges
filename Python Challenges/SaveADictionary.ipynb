{
 "metadata": {
  "language_info": {
   "codemirror_mode": {
    "name": "ipython",
    "version": 3
   },
   "file_extension": ".py",
   "mimetype": "text/x-python",
   "name": "python",
   "nbconvert_exporter": "python",
   "pygments_lexer": "ipython3",
   "version": "3.8.5-final"
  },
  "orig_nbformat": 2,
  "kernelspec": {
   "name": "python_defaultSpec_1600027234039",
   "display_name": "Python 3.8.5 64-bit"
  }
 },
 "nbformat": 4,
 "nbformat_minor": 2,
 "cells": [
  {
   "cell_type": "markdown",
   "metadata": {},
   "source": [
    "# Challenge 6 - Save a dictionary\n",
    "\n",
    "Write a python function to save a python dictionary to file\n",
    "\n",
    "The function should take 2 inputs;  a dictionary to save and an output filepath\n",
    "\n",
    "Write a function to retrieve the saved dictionary back into python"
   ]
  },
  {
   "cell_type": "code",
   "execution_count": null,
   "metadata": {},
   "outputs": [],
   "source": [
    "import os"
   ]
  },
  {
   "cell_type": "code",
   "execution_count": 19,
   "metadata": {},
   "outputs": [],
   "source": [
    "myDict = { \"a\":1, \"b\":2, \"c\":3}"
   ]
  },
  {
   "cell_type": "code",
   "execution_count": 22,
   "metadata": {
    "tags": []
   },
   "outputs": [
    {
     "output_type": "stream",
     "name": "stdout",
     "text": "dict_values([1, 2, 3])\ndict_keys(['a', 'b', 'c'])\n"
    }
   ],
   "source": [
    "x = myDict.values()\n",
    "y = myDict.keys()\n",
    "z = myDict.items()"
   ]
  },
  {
   "cell_type": "markdown",
   "metadata": {},
   "source": [
    "Each new line is a new dictionary entry"
   ]
  },
  {
   "cell_type": "code",
   "execution_count": 54,
   "metadata": {
    "tags": []
   },
   "outputs": [],
   "source": [
    "def saveDict(name,filepath):\n",
    "    f = open(\"dictionarySave.txt\", \"a\")\n",
    "    for item in myDict.items():\n",
    "        key = True\n",
    "        for var in item:\n",
    "            if type(var) == int:\n",
    "                f.write(\"int;\"+str(var))\n",
    "            elif type(var) == str:\n",
    "                f.write(\"str;\"+var)\n",
    "            if key == True:\n",
    "                f.write(\":\")\n",
    "                key = False\n",
    "            else:\n",
    "                key = True\n",
    "        f.write(\"\\n\")\n",
    "    f.write(\"---\")\n",
    "    f.close()"
   ]
  },
  {
   "cell_type": "code",
   "execution_count": null,
   "metadata": {},
   "outputs": [],
   "source": []
  }
 ]
}