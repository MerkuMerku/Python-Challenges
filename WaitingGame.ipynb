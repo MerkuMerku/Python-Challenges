{
 "metadata": {
  "language_info": {
   "codemirror_mode": {
    "name": "ipython",
    "version": 3
   },
   "file_extension": ".py",
   "mimetype": "text/x-python",
   "name": "python",
   "nbconvert_exporter": "python",
   "pygments_lexer": "ipython3",
   "version": "3.8.5-final"
  },
  "orig_nbformat": 2,
  "kernelspec": {
   "name": "python_defaultSpec_1599667089155",
   "display_name": "Python 3.8.5 64-bit"
  }
 },
 "nbformat": 4,
 "nbformat_minor": 2,
 "cells": [
  {
   "cell_type": "markdown",
   "metadata": {},
   "source": [
    "# Challenge 5 - Write a python waiting game\n",
    "\n",
    "When the user starts the game, a time between \n",
    "2 and 4 seconds is chosen (integer)\n",
    "When the user hits enter, the timer begins, \n",
    "and the use has to hit enter again when \n",
    "they think the specified time has passed.\n",
    "After the user has played, \n",
    "the time the user was early/late by is displayed"
   ]
  },
  {
   "cell_type": "code",
   "execution_count": 3,
   "metadata": {
    "tags": []
   },
   "outputs": [],
   "source": [
    "import numpy as np\n",
    "from datetime import datetime\n",
    "from random import randint\n",
    "\n",
    "times = [2,3,4]\n",
    "aimTime = randint(2,4)"
   ]
  },
  {
   "cell_type": "code",
   "execution_count": 15,
   "metadata": {
    "tags": []
   },
   "outputs": [],
   "source": [
    "def timestampSeconds(): \n",
    "    m = datetime.now().minute\n",
    "    s = datetime.now().second\n",
    "    ms = datetime.now().microsecond\n",
    "    now = m*60 + s + (ms*(10**-6))\n",
    "    return now"
   ]
  },
  {
   "cell_type": "code",
   "execution_count": 14,
   "metadata": {},
   "outputs": [],
   "source": [
    "def game():\n",
    "    print(\"Your target time is {} seconds\".format(aimTime))\n",
    "    begin = input(\"Press enter to start the timer, and enter again to stop\")\n",
    "    if begin == \"\":\n",
    "        start = timestampSeconds()\n",
    "\n",
    "    end = input(\"Press enter to stop the timer!\")\n",
    "\n",
    "    if end == \"\":\n",
    "        finish = timestampSeconds()\n",
    "        time = finish - start\n",
    "        print(\"Your time: {}\".format(round(time,2)))\n",
    "\n",
    "        diff = aimTime - time\n",
    "\n",
    "        if (time < 0):\n",
    "            print(\"You were over by {} seconds!\".format(round(np.sqrt(diff**2),2)))\n",
    "        elif (time > 0):\n",
    "            print(\"You were under by {} seconds\\n\".format(round(np.sqrt(diff**2),2))) \n",
    "        else:\n",
    "            print(\"You win!\")\n",
    "\n",
    "        print(\"Play again? (y/n))\")\n",
    "        ans = input()\n",
    "        if ans == 'y':\n",
    "            game()\n",
    "        else:\n",
    "            print(\"GG loser \\n\")"
   ]
  },
  {
   "cell_type": "code",
   "execution_count": null,
   "metadata": {},
   "outputs": [],
   "source": []
  }
 ]
}