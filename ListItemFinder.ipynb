{
 "metadata": {
  "language_info": {
   "codemirror_mode": {
    "name": "ipython",
    "version": 3
   },
   "file_extension": ".py",
   "mimetype": "text/x-python",
   "name": "python",
   "nbconvert_exporter": "python",
   "pygments_lexer": "ipython3",
   "version": "3.8.3-final"
  },
  "orig_nbformat": 2,
  "kernelspec": {
   "name": "python_defaultSpec_1599084617589",
   "display_name": "Python 3.8.3 64-bit"
  }
 },
 "nbformat": 4,
 "nbformat_minor": 2,
 "cells": [
  {
   "cell_type": "markdown",
   "metadata": {},
   "source": [
    "# Challenge 4 - Write a python function to find all cases of a specific item in a list, and return their indexes\n",
    "\n",
    "The input will be a list, and the item to find within that list. The function will return all cases of that item, along with its index location. there can be several lists inside the input list.\n",
    "\n",
    "Input: list, item within list to index\n",
    "\n",
    "Output: all items contained, and their index\n",
    "\n",
    "Turns out you can call a function within itself"
   ]
  },
  {
   "cell_type": "code",
   "execution_count": 22,
   "metadata": {
    "tags": []
   },
   "outputs": [],
   "source": [
    "listInput = [0, 1, 3, 2, 4, [0, 1, 3, 2], 2, 1, [1, 4]]\n",
    "itemInput = 2\n",
    "\n",
    "def itemChecker(listed, item):\n",
    "    indexes = []\n",
    "    for i in range(len(listed)):\n",
    "        if listed[i] == item:\n",
    "            indexes.append([i])\n",
    "        elif type(listed[i]) == list:\n",
    "            for index in itemChecker(listed[i], item):\n",
    "                indexes.append([i]+index)\n",
    "    return indexes"
   ]
  },
  {
   "cell_type": "code",
   "execution_count": 23,
   "metadata": {},
   "outputs": [
    {
     "output_type": "execute_result",
     "data": {
      "text/plain": "[[3], [5, 3], [6]]"
     },
     "metadata": {},
     "execution_count": 23
    }
   ],
   "source": [
    "itemChecker(listInput,itemInput)"
   ]
  },
  {
   "cell_type": "code",
   "execution_count": null,
   "metadata": {},
   "outputs": [],
   "source": []
  }
 ]
}