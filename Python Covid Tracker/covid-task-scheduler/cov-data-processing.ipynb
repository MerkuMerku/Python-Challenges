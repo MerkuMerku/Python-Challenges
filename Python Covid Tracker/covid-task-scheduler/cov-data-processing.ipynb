{
 "metadata": {
  "language_info": {
   "codemirror_mode": {
    "name": "ipython",
    "version": 3
   },
   "file_extension": ".py",
   "mimetype": "text/x-python",
   "name": "python",
   "nbconvert_exporter": "python",
   "pygments_lexer": "ipython3",
   "version": "3.9.5"
  },
  "orig_nbformat": 4,
  "kernelspec": {
   "name": "python3",
   "display_name": "Python 3.9.5 64-bit"
  },
  "interpreter": {
   "hash": "5503181fffb30737d67059cc9f487e4c7aff7dafd580d1fcd33bdcbe581f7636"
  }
 },
 "nbformat": 4,
 "nbformat_minor": 2,
 "cells": [
  {
   "source": [
    "## Imports"
   ],
   "cell_type": "markdown",
   "metadata": {}
  },
  {
   "cell_type": "code",
   "execution_count": 33,
   "metadata": {},
   "outputs": [],
   "source": [
    "import os\n",
    "import requests\n",
    "import numpy as np\n",
    "import pandas as pd\n",
    "from bs4 import BeautifulSoup\n",
    "from matplotlib import pyplot as plt\n",
    "from datetime import datetime\n",
    "\n",
    "#turn off annoying warnigns\n",
    "pd.options.mode.chained_assignment = None  # default='warn'"
   ]
  },
  {
   "source": [
    "## Function 1: Data Collection"
   ],
   "cell_type": "markdown",
   "metadata": {}
  },
  {
   "cell_type": "code",
   "execution_count": 34,
   "metadata": {},
   "outputs": [],
   "source": [
    "url = \"https://www.worldometers.info/coronavirus/\"\n",
    "htmlContent = requests.get(url).text\n",
    "\n",
    "soup = BeautifulSoup(htmlContent, 'html.parser')\n",
    "covidTable = soup.find(\"table\",attrs={\"id\": \"main_table_countries_today\"})"
   ]
  },
  {
   "source": [
    "## Function 2: Main Data Extract"
   ],
   "cell_type": "markdown",
   "metadata": {}
  },
  {
   "cell_type": "code",
   "execution_count": 35,
   "metadata": {},
   "outputs": [
    {
     "output_type": "execute_result",
     "data": {
      "text/plain": [
       "            Continent  Country,Other   TotalCases  TotalRecovered  \\\n",
       "0                Asia           Asia   55146240.0      52532612.0   \n",
       "1       South America  South America   32359664.0      29279598.0   \n",
       "2              Europe         Europe   47700040.0      45208400.0   \n",
       "3              Africa         Africa    5398550.0       4737478.0   \n",
       "4   Australia/Oceania        Oceania      72891.0         68497.0   \n",
       "5                 NaN            NaN        721.0           706.0   \n",
       "6                 All          World  181159472.0     165746400.0   \n",
       "7       North America            USA   34481764.0      28896472.0   \n",
       "8                Asia          India   30182468.0      29185560.0   \n",
       "9       South America         Brazil   18322760.0      16548159.0   \n",
       "10             Europe         France    5766315.0       5596777.0   \n",
       "11             Europe         Russia    5409088.0       4929639.0   \n",
       "12               Asia         Turkey    5398878.0       5261892.0   \n",
       "13             Europe             UK    4699868.0       4312164.0   \n",
       "14      South America      Argentina    4374587.0       3990289.0   \n",
       "15             Europe          Italy    4256451.0       4068798.0   \n",
       "16      South America       Colombia    4092746.0       3800388.0   \n",
       "17             Europe          Spain    3782463.0       3575883.0   \n",
       "18             Europe        Germany    3733525.0       3616800.0   \n",
       "19               Asia           Iran    3150949.0       2809595.0   \n",
       "\n",
       "    Serious,Critical  ActiveCases  TotalDeaths  \n",
       "0            26321.0    1833540.0     780090.0  \n",
       "1            31062.0    2090698.0     989368.0  \n",
       "2             7686.0    1394132.0    1097509.0  \n",
       "3             4491.0     520505.0     140567.0  \n",
       "4               10.0       3121.0       1273.0  \n",
       "5                0.0          0.0         15.0  \n",
       "6            80549.0   11488667.0    3924404.0  \n",
       "7             3875.0    4966157.0     619135.0  \n",
       "8             8944.0     602386.0     394524.0  \n",
       "9             8318.0    1263329.0     511272.0  \n",
       "10            1389.0      58599.0     110939.0  \n",
       "11            2300.0     347385.0     132064.0  \n",
       "12             737.0      87513.0      49473.0  \n",
       "13             259.0     259638.0     128066.0  \n",
       "14            7057.0     292319.0      91979.0  \n",
       "15             306.0      60235.0     127418.0  \n",
       "16            8155.0     189037.0     103321.0  \n",
       "17             641.0     125801.0      80779.0  \n",
       "18             889.0      25478.0      91247.0  \n",
       "19            3219.0     257766.0      83588.0  "
      ],
      "text/html": "<div>\n<style scoped>\n    .dataframe tbody tr th:only-of-type {\n        vertical-align: middle;\n    }\n\n    .dataframe tbody tr th {\n        vertical-align: top;\n    }\n\n    .dataframe thead th {\n        text-align: right;\n    }\n</style>\n<table border=\"1\" class=\"dataframe\">\n  <thead>\n    <tr style=\"text-align: right;\">\n      <th></th>\n      <th>Continent</th>\n      <th>Country,Other</th>\n      <th>TotalCases</th>\n      <th>TotalRecovered</th>\n      <th>Serious,Critical</th>\n      <th>ActiveCases</th>\n      <th>TotalDeaths</th>\n    </tr>\n  </thead>\n  <tbody>\n    <tr>\n      <th>0</th>\n      <td>Asia</td>\n      <td>Asia</td>\n      <td>55146240.0</td>\n      <td>52532612.0</td>\n      <td>26321.0</td>\n      <td>1833540.0</td>\n      <td>780090.0</td>\n    </tr>\n    <tr>\n      <th>1</th>\n      <td>South America</td>\n      <td>South America</td>\n      <td>32359664.0</td>\n      <td>29279598.0</td>\n      <td>31062.0</td>\n      <td>2090698.0</td>\n      <td>989368.0</td>\n    </tr>\n    <tr>\n      <th>2</th>\n      <td>Europe</td>\n      <td>Europe</td>\n      <td>47700040.0</td>\n      <td>45208400.0</td>\n      <td>7686.0</td>\n      <td>1394132.0</td>\n      <td>1097509.0</td>\n    </tr>\n    <tr>\n      <th>3</th>\n      <td>Africa</td>\n      <td>Africa</td>\n      <td>5398550.0</td>\n      <td>4737478.0</td>\n      <td>4491.0</td>\n      <td>520505.0</td>\n      <td>140567.0</td>\n    </tr>\n    <tr>\n      <th>4</th>\n      <td>Australia/Oceania</td>\n      <td>Oceania</td>\n      <td>72891.0</td>\n      <td>68497.0</td>\n      <td>10.0</td>\n      <td>3121.0</td>\n      <td>1273.0</td>\n    </tr>\n    <tr>\n      <th>5</th>\n      <td>NaN</td>\n      <td>NaN</td>\n      <td>721.0</td>\n      <td>706.0</td>\n      <td>0.0</td>\n      <td>0.0</td>\n      <td>15.0</td>\n    </tr>\n    <tr>\n      <th>6</th>\n      <td>All</td>\n      <td>World</td>\n      <td>181159472.0</td>\n      <td>165746400.0</td>\n      <td>80549.0</td>\n      <td>11488667.0</td>\n      <td>3924404.0</td>\n    </tr>\n    <tr>\n      <th>7</th>\n      <td>North America</td>\n      <td>USA</td>\n      <td>34481764.0</td>\n      <td>28896472.0</td>\n      <td>3875.0</td>\n      <td>4966157.0</td>\n      <td>619135.0</td>\n    </tr>\n    <tr>\n      <th>8</th>\n      <td>Asia</td>\n      <td>India</td>\n      <td>30182468.0</td>\n      <td>29185560.0</td>\n      <td>8944.0</td>\n      <td>602386.0</td>\n      <td>394524.0</td>\n    </tr>\n    <tr>\n      <th>9</th>\n      <td>South America</td>\n      <td>Brazil</td>\n      <td>18322760.0</td>\n      <td>16548159.0</td>\n      <td>8318.0</td>\n      <td>1263329.0</td>\n      <td>511272.0</td>\n    </tr>\n    <tr>\n      <th>10</th>\n      <td>Europe</td>\n      <td>France</td>\n      <td>5766315.0</td>\n      <td>5596777.0</td>\n      <td>1389.0</td>\n      <td>58599.0</td>\n      <td>110939.0</td>\n    </tr>\n    <tr>\n      <th>11</th>\n      <td>Europe</td>\n      <td>Russia</td>\n      <td>5409088.0</td>\n      <td>4929639.0</td>\n      <td>2300.0</td>\n      <td>347385.0</td>\n      <td>132064.0</td>\n    </tr>\n    <tr>\n      <th>12</th>\n      <td>Asia</td>\n      <td>Turkey</td>\n      <td>5398878.0</td>\n      <td>5261892.0</td>\n      <td>737.0</td>\n      <td>87513.0</td>\n      <td>49473.0</td>\n    </tr>\n    <tr>\n      <th>13</th>\n      <td>Europe</td>\n      <td>UK</td>\n      <td>4699868.0</td>\n      <td>4312164.0</td>\n      <td>259.0</td>\n      <td>259638.0</td>\n      <td>128066.0</td>\n    </tr>\n    <tr>\n      <th>14</th>\n      <td>South America</td>\n      <td>Argentina</td>\n      <td>4374587.0</td>\n      <td>3990289.0</td>\n      <td>7057.0</td>\n      <td>292319.0</td>\n      <td>91979.0</td>\n    </tr>\n    <tr>\n      <th>15</th>\n      <td>Europe</td>\n      <td>Italy</td>\n      <td>4256451.0</td>\n      <td>4068798.0</td>\n      <td>306.0</td>\n      <td>60235.0</td>\n      <td>127418.0</td>\n    </tr>\n    <tr>\n      <th>16</th>\n      <td>South America</td>\n      <td>Colombia</td>\n      <td>4092746.0</td>\n      <td>3800388.0</td>\n      <td>8155.0</td>\n      <td>189037.0</td>\n      <td>103321.0</td>\n    </tr>\n    <tr>\n      <th>17</th>\n      <td>Europe</td>\n      <td>Spain</td>\n      <td>3782463.0</td>\n      <td>3575883.0</td>\n      <td>641.0</td>\n      <td>125801.0</td>\n      <td>80779.0</td>\n    </tr>\n    <tr>\n      <th>18</th>\n      <td>Europe</td>\n      <td>Germany</td>\n      <td>3733525.0</td>\n      <td>3616800.0</td>\n      <td>889.0</td>\n      <td>25478.0</td>\n      <td>91247.0</td>\n    </tr>\n    <tr>\n      <th>19</th>\n      <td>Asia</td>\n      <td>Iran</td>\n      <td>3150949.0</td>\n      <td>2809595.0</td>\n      <td>3219.0</td>\n      <td>257766.0</td>\n      <td>83588.0</td>\n    </tr>\n  </tbody>\n</table>\n</div>"
     },
     "metadata": {},
     "execution_count": 35
    }
   ],
   "source": [
    "# extract the table headings from the soup\n",
    "head = covidTable.thead.find_all(\"tr\")\n",
    "headings = []\n",
    "\n",
    "for th in head[0].find_all(\"th\"):\n",
    "    headings.append(th.text.replace(\"\\n\", \"\").strip())\n",
    "\n",
    "# extract actual data from the soup\n",
    "body = covidTable.tbody.find_all(\"tr\")\n",
    "data = []\n",
    "\n",
    "# iterate through every row in the html\n",
    "for r in range(1,len(body)):\n",
    "    row = []\n",
    "    # find all column entries in that particular row\n",
    "    for tr in body[r].find_all(\"td\"):\n",
    "        row.append(tr.text.replace(\"\\n\",\"\").strip())\n",
    "    len(row)\n",
    "    data.append(row)\n",
    "\n",
    "df = pd.DataFrame(data,columns = headings)\n",
    "df.head(20)\n",
    "\n",
    "######################################################################\n",
    "#                         CLEAN DATA TABLE                           #\n",
    "######################################################################\n",
    "\n",
    "# define nan object\n",
    "NaN = np.nan\n",
    "\n",
    "# recover appropriate columns\n",
    "df = df.filter(['Continent', 'Country,Other','TotalCases','TotalRecovered','Serious,Critical','ActiveCases','TotalDeaths']) \n",
    "\n",
    "# strip artefacts\n",
    "df = df.replace(',','', regex=True)\n",
    "df = df.replace('\\+','', regex=True)\n",
    "df = df.replace('', NaN, regex=True)\n",
    "\n",
    "# convert appropriate columns to integer type\n",
    "df[['TotalCases', 'TotalRecovered','Serious,Critical','ActiveCases','TotalDeaths']] = df[['TotalCases', 'TotalRecovered','Serious,Critical','ActiveCases','TotalDeaths']].apply(pd.to_numeric, downcast = 'float', errors = 'coerce')\n",
    "df.head(20)"
   ]
  },
  {
   "source": [
    "## Function 3: Extract Tables"
   ],
   "cell_type": "markdown",
   "metadata": {}
  },
  {
   "cell_type": "code",
   "execution_count": 36,
   "metadata": {},
   "outputs": [],
   "source": [
    "############# world\n",
    "world_df = df.loc[df['Country,Other'] == \"World\"]\n",
    "\n",
    "# record worldwide cases\n",
    "worldwideCases = world_df.iloc[0]['TotalCases']\n",
    "\n",
    "# select our data for plotting:\n",
    "world_df = world_df.filter(['TotalCases','TotalRecovered','Serious,Critical','ActiveCases','TotalDeaths'])\n",
    "\n",
    "# this is the correct way to add a new column from existing columns!!!!!!!!!!!!!!!!!!!!!!!!!!!!!!!!!!!!!!!!!!!!!!!!\n",
    "world_df = world_df.assign(NonCritical_Active = float(world_df['ActiveCases']) - float(world_df['Serious,Critical']))\n",
    "world_df.rename(columns = {'NonCritical_Active':'Non-Critical, Active', 'Serious,Critical':'Critical, Active'}, inplace = True)\n",
    "\n",
    "# add in percentage columns\n",
    "world_df = world_df.assign(TotalRecoveredPerc = (int(world_df['TotalRecovered']) / int(world_df['TotalCases'])) * 100)\n",
    "world_df = world_df.assign(CritPerc = (int(world_df['Critical, Active']) / int(world_df['TotalCases'])) * 100)\n",
    "world_df = world_df.assign(DeathPerc = (int(world_df['TotalDeaths']) / int(world_df['TotalCases'])) * 100)\n",
    "world_df = world_df.assign(NonCritPerc = (int(world_df['Non-Critical, Active']) / int(world_df['TotalCases'])) * 100)\n",
    "\n",
    "# drop redundant cols\n",
    "world_df = world_df.drop(columns = ['ActiveCases']).reset_index(drop=True)\n",
    "\n",
    "############ continent \n",
    "continents_df = df.iloc[0:5]\n",
    "continents_df.drop(columns=['Country,Other'], inplace=True)\n",
    "\n",
    "na = df.loc[df['Continent'] == \"North America\"]\n",
    "del na[\"Continent\"]\n",
    "\n",
    "na = na.replace('','0', regex=True)\n",
    "\n",
    "# create a row of data to append to the continents for North America\n",
    "row = []\n",
    "row.append(\"North America\")\n",
    "\n",
    "for column in na.columns[1:]:\n",
    "    na[column] = pd.to_numeric(na[column], errors='coerce')\n",
    "    row.append(round(na[column].sum()))\n",
    "row = [row]\n",
    "\n",
    "continents_df = continents_df.append(pd.DataFrame( row, columns=continents_df.columns), ignore_index = True)\n",
    "continents_df = continents_df.sort_values(by=['TotalCases'], ascending=False)\n",
    "\n",
    "############ country\n",
    "countries_df = df.loc[7:len(df)]\n",
    "countries_df = countries_df.reset_index()\n",
    "countries_df = countries_df.drop(columns = ['index', 'Continent'])\n",
    "\n",
    "# sort the data by total cases, as we did with continents:\n",
    "countries_df = countries_df.sort_values(by=['TotalCases'],ascending=False)\n",
    "\n"
   ]
  },
  {
   "source": [
    "## Function 4: Create CSVs"
   ],
   "cell_type": "markdown",
   "metadata": {}
  },
  {
   "cell_type": "code",
   "execution_count": 42,
   "metadata": {},
   "outputs": [
    {
     "output_type": "stream",
     "name": "stdout",
     "text": [
      "Extracts directory not found, creating csv extracts directory and files...\nDirectory 'csv_extracts' successfully created\nc:\\Users\\marja\\Documents\\Repositories\\Personal Code\\Python-Projects-and-Challenges\\Python Covid Tracker\\covid-task-scheduler\\csv_extracts/world_csv_25062021.csv\n"
     ]
    }
   ],
   "source": [
    "# create a folder for the csv data extracts if there isn't aready one using the os module\n",
    "\n",
    "path = os.getcwd()\n",
    "directory = 'csv_extracts'\n",
    "\n",
    "if os.path.isdir(directory):\n",
    "    print(\"Extracts directory found at '%s'\" % directory)\n",
    "    path = os.path.join(path, directory)\n",
    "else:\n",
    "    print('Extracts directory not found, creating csv extracts directory and files...')\n",
    "    path = os.path.join(path, directory)\n",
    "    os.mkdir(path)\n",
    "    if os.path.isdir(directory):\n",
    "        print(\"Directory '% s' successfully created\" % directory)\n",
    "    else:\n",
    "        print(\"Could not create directory '% s'\" % directory)\n",
    "        \n",
    "# create csv files from extracts\n",
    "\n",
    "# dd/mm/YY H:M:S\n",
    "dt_string = now.strftime(\"%d%m%Y\")\n",
    "\n",
    "# world df\n",
    "csv_name = path + \"/world_csv_\" + dt_string + \".csv\"\n",
    "print(csv_name)\n",
    "world_df.to_csv(csv_name)\n",
    "\n",
    "# continents df\n",
    "csv_name = path + \"/continent_csv_\" + dt_string + \".csv\"\n",
    "countries_df.to_csv(csv_name)\n",
    "\n",
    "# countries df\n",
    "csv_name = path + \"/country_csv_\" + dt_string + \".csv\"\n",
    "world_df.to_csv(csv_name)"
   ]
  },
  {
   "cell_type": "code",
   "execution_count": null,
   "metadata": {},
   "outputs": [],
   "source": []
  }
 ]
}