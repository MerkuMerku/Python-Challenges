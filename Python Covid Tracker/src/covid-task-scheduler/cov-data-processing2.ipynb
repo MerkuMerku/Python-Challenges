{
 "metadata": {
  "language_info": {
   "codemirror_mode": {
    "name": "ipython",
    "version": 3
   },
   "file_extension": ".py",
   "mimetype": "text/x-python",
   "name": "python",
   "nbconvert_exporter": "python",
   "pygments_lexer": "ipython3",
   "version": "3.8.5"
  },
  "orig_nbformat": 4,
  "kernelspec": {
   "name": "python3",
   "display_name": "Python 3.8.5 64-bit ('base': conda)"
  },
  "interpreter": {
   "hash": "47ee22eb7888a9f5efbde4145604bb3d60caab180469aaa0f626956d851c2402"
  }
 },
 "nbformat": 4,
 "nbformat_minor": 2,
 "cells": [
  {
   "source": [
    "## Imports"
   ],
   "cell_type": "markdown",
   "metadata": {}
  },
  {
   "cell_type": "code",
   "execution_count": 1,
   "metadata": {},
   "outputs": [],
   "source": [
    "import os\n",
    "import requests\n",
    "import numpy as np\n",
    "import pandas as pd\n",
    "from bs4 import BeautifulSoup\n",
    "from sqlalchemy import create_engine\n",
    "from matplotlib import pyplot as plt\n",
    "from datetime import datetime\n",
    "\n",
    "#turn off annoying warnigns\n",
    "pd.options.mode.chained_assignment = None  # default='warn'"
   ]
  },
  {
   "source": [
    "## Function 1: Data Collection"
   ],
   "cell_type": "markdown",
   "metadata": {}
  },
  {
   "cell_type": "code",
   "execution_count": 2,
   "metadata": {},
   "outputs": [],
   "source": [
    "url = \"https://www.worldometers.info/coronavirus/\"\n",
    "htmlContent = requests.get(url).text\n",
    "\n",
    "soup = BeautifulSoup(htmlContent, 'html.parser')\n",
    "covidTable = soup.find(\"table\",attrs={\"id\": \"main_table_countries_today\"})"
   ]
  },
  {
   "source": [
    "## Function 2: Main Data Extract"
   ],
   "cell_type": "markdown",
   "metadata": {}
  },
  {
   "cell_type": "code",
   "execution_count": 3,
   "metadata": {},
   "outputs": [
    {
     "output_type": "execute_result",
     "data": {
      "text/plain": [
       "             Continent     Country,Other  TotalCases  TotalRecovered  \\\n",
       "0                 Asia              Asia  56139468.0      53482132.0   \n",
       "1        South America     South America  33160028.0      30137216.0   \n",
       "2               Europe            Europe  48134376.0      45512156.0   \n",
       "3               Africa            Africa   5639668.0       4893587.0   \n",
       "4    Australia/Oceania           Oceania     75390.0         68913.0   \n",
       "..                 ...               ...         ...             ...   \n",
       "224  Australia/Oceania  Marshall Islands         4.0             4.0   \n",
       "225  Australia/Oceania             Samoa         3.0             3.0   \n",
       "226             Africa      Saint Helena         2.0             2.0   \n",
       "227  Australia/Oceania        Micronesia         1.0             1.0   \n",
       "228               Asia             China     91810.0         86738.0   \n",
       "\n",
       "     Serious,Critical  ActiveCases  TotalDeaths DateProcessed  \n",
       "0             26559.0    1860731.0     796603.0      03072021  \n",
       "1             29368.0    2010869.0    1011943.0      03072021  \n",
       "2              6601.0    1517479.0    1104742.0      03072021  \n",
       "3              4583.0     601274.0     144807.0      03072021  \n",
       "4                29.0       5193.0       1284.0      03072021  \n",
       "..                ...          ...          ...           ...  \n",
       "224               NaN          0.0          NaN      03072021  \n",
       "225               NaN          0.0          NaN      03072021  \n",
       "226               NaN          0.0          NaN      03072021  \n",
       "227               NaN          0.0          NaN      03072021  \n",
       "228               8.0        436.0       4636.0      03072021  \n",
       "\n",
       "[229 rows x 8 columns]"
      ],
      "text/html": "<div>\n<style scoped>\n    .dataframe tbody tr th:only-of-type {\n        vertical-align: middle;\n    }\n\n    .dataframe tbody tr th {\n        vertical-align: top;\n    }\n\n    .dataframe thead th {\n        text-align: right;\n    }\n</style>\n<table border=\"1\" class=\"dataframe\">\n  <thead>\n    <tr style=\"text-align: right;\">\n      <th></th>\n      <th>Continent</th>\n      <th>Country,Other</th>\n      <th>TotalCases</th>\n      <th>TotalRecovered</th>\n      <th>Serious,Critical</th>\n      <th>ActiveCases</th>\n      <th>TotalDeaths</th>\n      <th>DateProcessed</th>\n    </tr>\n  </thead>\n  <tbody>\n    <tr>\n      <th>0</th>\n      <td>Asia</td>\n      <td>Asia</td>\n      <td>56139468.0</td>\n      <td>53482132.0</td>\n      <td>26559.0</td>\n      <td>1860731.0</td>\n      <td>796603.0</td>\n      <td>03072021</td>\n    </tr>\n    <tr>\n      <th>1</th>\n      <td>South America</td>\n      <td>South America</td>\n      <td>33160028.0</td>\n      <td>30137216.0</td>\n      <td>29368.0</td>\n      <td>2010869.0</td>\n      <td>1011943.0</td>\n      <td>03072021</td>\n    </tr>\n    <tr>\n      <th>2</th>\n      <td>Europe</td>\n      <td>Europe</td>\n      <td>48134376.0</td>\n      <td>45512156.0</td>\n      <td>6601.0</td>\n      <td>1517479.0</td>\n      <td>1104742.0</td>\n      <td>03072021</td>\n    </tr>\n    <tr>\n      <th>3</th>\n      <td>Africa</td>\n      <td>Africa</td>\n      <td>5639668.0</td>\n      <td>4893587.0</td>\n      <td>4583.0</td>\n      <td>601274.0</td>\n      <td>144807.0</td>\n      <td>03072021</td>\n    </tr>\n    <tr>\n      <th>4</th>\n      <td>Australia/Oceania</td>\n      <td>Oceania</td>\n      <td>75390.0</td>\n      <td>68913.0</td>\n      <td>29.0</td>\n      <td>5193.0</td>\n      <td>1284.0</td>\n      <td>03072021</td>\n    </tr>\n    <tr>\n      <th>...</th>\n      <td>...</td>\n      <td>...</td>\n      <td>...</td>\n      <td>...</td>\n      <td>...</td>\n      <td>...</td>\n      <td>...</td>\n      <td>...</td>\n    </tr>\n    <tr>\n      <th>224</th>\n      <td>Australia/Oceania</td>\n      <td>Marshall Islands</td>\n      <td>4.0</td>\n      <td>4.0</td>\n      <td>NaN</td>\n      <td>0.0</td>\n      <td>NaN</td>\n      <td>03072021</td>\n    </tr>\n    <tr>\n      <th>225</th>\n      <td>Australia/Oceania</td>\n      <td>Samoa</td>\n      <td>3.0</td>\n      <td>3.0</td>\n      <td>NaN</td>\n      <td>0.0</td>\n      <td>NaN</td>\n      <td>03072021</td>\n    </tr>\n    <tr>\n      <th>226</th>\n      <td>Africa</td>\n      <td>Saint Helena</td>\n      <td>2.0</td>\n      <td>2.0</td>\n      <td>NaN</td>\n      <td>0.0</td>\n      <td>NaN</td>\n      <td>03072021</td>\n    </tr>\n    <tr>\n      <th>227</th>\n      <td>Australia/Oceania</td>\n      <td>Micronesia</td>\n      <td>1.0</td>\n      <td>1.0</td>\n      <td>NaN</td>\n      <td>0.0</td>\n      <td>NaN</td>\n      <td>03072021</td>\n    </tr>\n    <tr>\n      <th>228</th>\n      <td>Asia</td>\n      <td>China</td>\n      <td>91810.0</td>\n      <td>86738.0</td>\n      <td>8.0</td>\n      <td>436.0</td>\n      <td>4636.0</td>\n      <td>03072021</td>\n    </tr>\n  </tbody>\n</table>\n<p>229 rows × 8 columns</p>\n</div>"
     },
     "metadata": {},
     "execution_count": 3
    }
   ],
   "source": [
    "# extract the table headings from the soup\n",
    "head = covidTable.thead.find_all(\"tr\")\n",
    "headings = []\n",
    "\n",
    "for th in head[0].find_all(\"th\"):\n",
    "    headings.append(th.text.replace(\"\\n\", \"\").strip())\n",
    "\n",
    "# extract actual data from the soup\n",
    "body = covidTable.tbody.find_all(\"tr\")\n",
    "data = []\n",
    "\n",
    "# iterate through every row in the html\n",
    "for r in range(1,len(body)):\n",
    "    row = []\n",
    "    # find all column entries in that particular row\n",
    "    for tr in body[r].find_all(\"td\"):\n",
    "        row.append(tr.text.replace(\"\\n\",\"\").strip())\n",
    "    len(row)\n",
    "    data.append(row)\n",
    "\n",
    "df = pd.DataFrame(data,columns = headings)\n",
    "df.head(20)\n",
    "\n",
    "######################################################################\n",
    "#                         CLEAN DATA TABLE                           #\n",
    "######################################################################\n",
    "\n",
    "# define nan object\n",
    "NaN = np.nan\n",
    "\n",
    "# recover appropriate columns\n",
    "df = df.filter(['Continent', 'Country,Other','TotalCases','TotalRecovered','Serious,Critical','ActiveCases','TotalDeaths']) \n",
    "\n",
    "# strip artefacts\n",
    "df = df.replace(',','', regex=True)\n",
    "df = df.replace('\\+','', regex=True)\n",
    "df = df.replace('', NaN, regex=True)\n",
    "\n",
    "# convert appropriate columns to integer type\n",
    "df[['TotalCases', 'TotalRecovered','Serious,Critical','ActiveCases','TotalDeaths']] = df[['TotalCases', 'TotalRecovered','Serious,Critical','ActiveCases','TotalDeaths']].apply(pd.to_numeric, downcast = 'float', errors = 'coerce')\n",
    "df.head(20)\n",
    "\n",
    "# add date of processing to all rows\n",
    "now = datetime.now()\n",
    "dt_string = now.strftime(\"%d%m%Y\")\n",
    "df['DateProcessed'] = dt_string\n",
    "df"
   ]
  },
  {
   "source": [
    "## Function 3: Extract Tables"
   ],
   "cell_type": "markdown",
   "metadata": {}
  },
  {
   "cell_type": "code",
   "execution_count": 4,
   "metadata": {},
   "outputs": [],
   "source": [
    "############# world\n",
    "world_df = df.loc[df['Country,Other'] == \"World\"]\n",
    "\n",
    "# record worldwide cases\n",
    "worldwideCases = world_df.iloc[0]['TotalCases']\n",
    "\n",
    "# select our data for plotting:\n",
    "world_df = world_df.filter(['TotalCases','TotalRecovered','Serious,Critical','ActiveCases','TotalDeaths', 'DateProcessed'])\n",
    "\n",
    "# this is the correct way to add a new column from existing columns!!!!!!!!!!!!!!!!!!!!!!!!!!!!!!!!!!!!!!!!!!!!!!!!\n",
    "world_df = world_df.assign(NonCritical_Active = float(world_df['ActiveCases']) - float(world_df['Serious,Critical']))\n",
    "world_df.rename(columns = {'NonCritical_Active':'Non-Critical, Active', 'Serious,Critical':'Critical, Active'}, inplace = True)\n",
    "\n",
    "# add in percentage columns\n",
    "world_df = world_df.assign(TotalRecoveredPerc = (int(world_df['TotalRecovered']) / int(world_df['TotalCases'])) * 100)\n",
    "world_df = world_df.assign(CritPerc = (int(world_df['Critical, Active']) / int(world_df['TotalCases'])) * 100)\n",
    "world_df = world_df.assign(DeathPerc = (int(world_df['TotalDeaths']) / int(world_df['TotalCases'])) * 100)\n",
    "world_df = world_df.assign(NonCritPerc = (int(world_df['Non-Critical, Active']) / int(world_df['TotalCases'])) * 100)\n",
    "\n",
    "# drop redundant cols\n",
    "world_df = world_df.drop(columns = ['ActiveCases']).reset_index(drop=True)\n",
    "\n",
    "############ continent \n",
    "continents_df = df.iloc[0:5]\n",
    "continents_df.drop(columns=['Country,Other'], inplace=True)\n",
    "\n",
    "na = df.loc[df['Continent'] == \"North America\"]\n",
    "del na[\"Continent\"]\n",
    "\n",
    "na = na.replace('','0', regex=True)\n",
    "\n",
    "# create a row of data to append to the continents for North America\n",
    "row = []\n",
    "row.append(\"North America\")\n",
    "\n",
    "for column in na.columns[1:]:\n",
    "    na[column] = pd.to_numeric(na[column], errors='coerce')\n",
    "    row.append(round(na[column].sum()))\n",
    "row = [row]\n",
    "\n",
    "continents_df = continents_df.append(pd.DataFrame( row, columns=continents_df.columns), ignore_index = True)\n",
    "continents_df = continents_df.sort_values(by=['TotalCases'], ascending=False)\n",
    "\n",
    "############ country\n",
    "countries_df = df.loc[7:len(df)]\n",
    "countries_df = countries_df.reset_index()\n",
    "countries_df = countries_df.drop(columns = ['index', 'Continent'])\n",
    "\n",
    "# sort the data by total cases, as we did with continents:\n",
    "countries_df = countries_df.sort_values(by=['TotalCases'],ascending=False)\n"
   ]
  },
  {
   "source": [
    "## Function 4: Create CSVs"
   ],
   "cell_type": "markdown",
   "metadata": {}
  },
  {
   "cell_type": "code",
   "execution_count": 5,
   "metadata": {},
   "outputs": [
    {
     "output_type": "stream",
     "name": "stdout",
     "text": [
      "Extracts directory not found, creating csv extracts directory and files...\nDirectory 'csv_extracts' successfully created\n/Users/markdunbar/Documents/Repositories/Python-Projects-and-Challenges/Python Covid Tracker/src/covid-task-scheduler/csv_extracts/world_csv_03072021.csv\n/Users/markdunbar/Documents/Repositories/Python-Projects-and-Challenges/Python Covid Tracker/src/covid-task-scheduler/csv_extracts/continent_csv_03072021.csv\n/Users/markdunbar/Documents/Repositories/Python-Projects-and-Challenges/Python Covid Tracker/src/covid-task-scheduler/csv_extracts/country_csv_03072021.csv\n"
     ]
    },
    {
     "output_type": "execute_result",
     "data": {
      "text/plain": [
       "    TotalCases  TotalRecovered  Critical, Active  TotalDeaths DateProcessed  \\\n",
       "0  183825696.0     168259008.0           78064.0    3979135.0      03072021   \n",
       "\n",
       "   Non-Critical, Active  TotalRecoveredPerc  CritPerc  DeathPerc  NonCritPerc  \n",
       "0            11509491.0           91.531822  0.042466   2.164624     6.261089  "
      ],
      "text/html": "<div>\n<style scoped>\n    .dataframe tbody tr th:only-of-type {\n        vertical-align: middle;\n    }\n\n    .dataframe tbody tr th {\n        vertical-align: top;\n    }\n\n    .dataframe thead th {\n        text-align: right;\n    }\n</style>\n<table border=\"1\" class=\"dataframe\">\n  <thead>\n    <tr style=\"text-align: right;\">\n      <th></th>\n      <th>TotalCases</th>\n      <th>TotalRecovered</th>\n      <th>Critical, Active</th>\n      <th>TotalDeaths</th>\n      <th>DateProcessed</th>\n      <th>Non-Critical, Active</th>\n      <th>TotalRecoveredPerc</th>\n      <th>CritPerc</th>\n      <th>DeathPerc</th>\n      <th>NonCritPerc</th>\n    </tr>\n  </thead>\n  <tbody>\n    <tr>\n      <th>0</th>\n      <td>183825696.0</td>\n      <td>168259008.0</td>\n      <td>78064.0</td>\n      <td>3979135.0</td>\n      <td>03072021</td>\n      <td>11509491.0</td>\n      <td>91.531822</td>\n      <td>0.042466</td>\n      <td>2.164624</td>\n      <td>6.261089</td>\n    </tr>\n  </tbody>\n</table>\n</div>"
     },
     "metadata": {},
     "execution_count": 5
    }
   ],
   "source": [
    "# create a folder for the csv data extracts if there isn't aready one using the os module\n",
    "\n",
    "path = os.getcwd()\n",
    "directory = 'csv_extracts'\n",
    "\n",
    "if os.path.isdir(directory):\n",
    "    print(\"Extracts directory found at '%s'\" % directory)\n",
    "    path = os.path.join(path, directory)\n",
    "    # for File in os.listdir('./csv_extracts'):\n",
    "    #         os.remove(File)\n",
    "    #         print(\"removed '%s'\" % File)\n",
    "else:\n",
    "    print('Extracts directory not found, creating csv extracts directory and files...')\n",
    "    path = os.path.join(path, directory)\n",
    "    os.mkdir(path)\n",
    "    if os.path.isdir(directory):\n",
    "        print(\"Directory '% s' successfully created\" % directory)\n",
    "    else:\n",
    "        print(\"Could not create directory '% s'\" % directory)\n",
    "        \n",
    "# create csv files from extracts\n",
    "\n",
    "# world df\n",
    "csv_name = path + \"/world_csv_\" + dt_string + \".csv\"\n",
    "print(csv_name)\n",
    "world_df.to_csv(csv_name)\n",
    "\n",
    "# continents df\n",
    "csv_name = path + \"/continent_csv_\" + dt_string + \".csv\"\n",
    "print(csv_name)\n",
    "continents_df.to_csv(csv_name)\n",
    "\n",
    "# countries df\n",
    "csv_name = path + \"/country_csv_\" + dt_string + \".csv\"\n",
    "print(csv_name)\n",
    "countries_df.to_csv(csv_name)\n",
    "\n",
    "world_df"
   ]
  },
  {
   "cell_type": "code",
   "execution_count": 6,
   "metadata": {},
   "outputs": [
    {
     "output_type": "stream",
     "name": "stdout",
     "text": [
      "2021-07-03 00:30:55,215 INFO sqlalchemy.engine.base.Engine SELECT CAST('test plain returns' AS VARCHAR(60)) AS anon_1\n",
      "2021-07-03 00:30:55,216 INFO sqlalchemy.engine.base.Engine ()\n",
      "2021-07-03 00:30:55,218 INFO sqlalchemy.engine.base.Engine SELECT CAST('test unicode returns' AS VARCHAR(60)) AS anon_1\n",
      "2021-07-03 00:30:55,222 INFO sqlalchemy.engine.base.Engine ()\n"
     ]
    }
   ],
   "source": [
    "engine = create_engine('sqlite:///../application/site.db', echo=True)\n",
    "sqlite_connection = engine.connect()"
   ]
  },
  {
   "cell_type": "code",
   "execution_count": null,
   "metadata": {},
   "outputs": [],
   "source": []
  }
 ]
}